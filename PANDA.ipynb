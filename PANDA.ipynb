{
  "cells": [
    {
      "cell_type": "markdown",
      "id": "61b4f844",
      "metadata": {
        "id": "61b4f844"
      },
      "source": [
        "## Pandas Data Visualization"
      ]
    },
    {
      "cell_type": "markdown",
      "id": "401e2100",
      "metadata": {
        "id": "401e2100"
      },
      "source": [
        "- Pandas uses the plot() method to create diagrams.\n",
        "- We can use Pyplot, a submodule of the Matplotlib library to visualize the diagram on the screen."
      ]
    },
    {
      "cell_type": "markdown",
      "id": "511ab37c",
      "metadata": {
        "id": "511ab37c"
      },
      "source": [
        "## Importing pandas and matplotlib"
      ]
    },
    {
      "cell_type": "code",
      "execution_count": null,
      "id": "aae6b9b1",
      "metadata": {
        "id": "aae6b9b1"
      },
      "outputs": [],
      "source": [
        "import pandas as pd\n",
        "import matplotlib.pyplot as mpl\n",
        "import numpy as np"
      ]
    },
    {
      "cell_type": "markdown",
      "id": "b4cfdba0",
      "metadata": {
        "id": "b4cfdba0"
      },
      "source": [
        "## Loading Datasets"
      ]
    },
    {
      "cell_type": "code",
      "execution_count": null,
      "id": "28584e22",
      "metadata": {
        "id": "28584e22"
      },
      "outputs": [],
      "source": [
        "iris = pd.read_csv('iris.csv')\n",
        "gas_prices = pd.read_csv('gas_prices.csv')"
      ]
    },
    {
      "cell_type": "markdown",
      "id": "fe2f33d7",
      "metadata": {
        "id": "fe2f33d7"
      },
      "source": [
        "## Assignment Questions"
      ]
    },
    {
      "cell_type": "markdown",
      "id": "69768b15",
      "metadata": {
        "id": "69768b15"
      },
      "source": [
        "#### Q1. Construct a Line Plot for the Gas Prices in Japan and USA for different years using Pandas plotting."
      ]
    },
    {
      "cell_type": "markdown",
      "id": "0bd757d7",
      "metadata": {
        "id": "0bd757d7"
      },
      "source": [
        "##### Solution"
      ]
    },
    {
      "cell_type": "code",
      "execution_count": null,
      "id": "0bd9b0ba",
      "metadata": {
        "id": "0bd9b0ba"
      },
      "outputs": [],
      "source": []
    },
    {
      "cell_type": "markdown",
      "id": "bc641a34",
      "metadata": {
        "id": "bc641a34"
      },
      "source": [
        "#### Q2. Construct a Scatterplot and a boxplot for comparing gas prices of Canada and France using Pandas plotting."
      ]
    },
    {
      "cell_type": "markdown",
      "id": "e6b6389e",
      "metadata": {
        "id": "e6b6389e"
      },
      "source": [
        "##### Solution"
      ]
    },
    {
      "cell_type": "code",
      "execution_count": null,
      "id": "f7784c46",
      "metadata": {
        "id": "f7784c46"
      },
      "outputs": [],
      "source": []
    },
    {
      "cell_type": "markdown",
      "id": "e1a87062",
      "metadata": {
        "id": "e1a87062"
      },
      "source": [
        "#### Q3. Find the mean value of every country and create a bar chart to represent the mean value using Pandas plotting"
      ]
    },
    {
      "cell_type": "markdown",
      "id": "19ed8e46",
      "metadata": {
        "id": "19ed8e46"
      },
      "source": [
        "##### Solution"
      ]
    },
    {
      "cell_type": "code",
      "execution_count": null,
      "id": "ef97b2ba",
      "metadata": {
        "id": "ef97b2ba"
      },
      "outputs": [],
      "source": []
    },
    {
      "cell_type": "markdown",
      "id": "4e49bad7",
      "metadata": {
        "id": "4e49bad7"
      },
      "source": [
        "#### Q4. Construct a pie chart representing the mean value of gas prices of all the given countries from year 2001 to 2008 using Pandas plotting."
      ]
    },
    {
      "cell_type": "markdown",
      "id": "967942f4",
      "metadata": {
        "id": "967942f4"
      },
      "source": [
        "##### Solution"
      ]
    },
    {
      "cell_type": "code",
      "execution_count": null,
      "id": "15e530e7",
      "metadata": {
        "id": "15e530e7"
      },
      "outputs": [],
      "source": []
    },
    {
      "cell_type": "markdown",
      "id": "19f1f11f",
      "metadata": {
        "id": "19f1f11f"
      },
      "source": [
        "#### Q5. Consider the iris dataset, Construct bar plots showing standard deviation of all the columns under different species."
      ]
    },
    {
      "cell_type": "markdown",
      "id": "cadd290b",
      "metadata": {
        "id": "cadd290b"
      },
      "source": [
        "##### Solution"
      ]
    },
    {
      "cell_type": "code",
      "execution_count": null,
      "id": "95b07e3d",
      "metadata": {
        "id": "95b07e3d"
      },
      "outputs": [],
      "source": []
    },
    {
      "cell_type": "code",
      "execution_count": null,
      "id": "7d3064ee",
      "metadata": {
        "id": "7d3064ee"
      },
      "outputs": [],
      "source": []
    }
  ],
  "metadata": {
    "kernelspec": {
      "display_name": "Python 3 (ipykernel)",
      "language": "python",
      "name": "python3"
    },
    "language_info": {
      "codemirror_mode": {
        "name": "ipython",
        "version": 3
      },
      "file_extension": ".py",
      "mimetype": "text/x-python",
      "name": "python",
      "nbconvert_exporter": "python",
      "pygments_lexer": "ipython3",
      "version": "3.9.13"
    },
    "colab": {
      "provenance": []
    }
  },
  "nbformat": 4,
  "nbformat_minor": 5
}